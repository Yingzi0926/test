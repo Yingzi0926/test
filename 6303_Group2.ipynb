{
  "nbformat": 4,
  "nbformat_minor": 0,
  "metadata": {
    "colab": {
      "provenance": [],
      "collapsed_sections": [],
      "include_colab_link": true
    },
    "kernelspec": {
      "name": "python3",
      "display_name": "Python 3"
    },
    "language_info": {
      "name": "python"
    }
  },
  "cells": [
    {
      "cell_type": "markdown",
      "metadata": {
        "id": "view-in-github",
        "colab_type": "text"
      },
      "source": [
        "<a href=\"https://colab.research.google.com/github/Yingzi0926/test/blob/main/6303_Group2.ipynb\" target=\"_parent\"><img src=\"https://colab.research.google.com/assets/colab-badge.svg\" alt=\"Open In Colab\"/></a>"
      ]
    },
    {
      "cell_type": "markdown",
      "source": [
        "**Exercise 1  [5 Points]**\n",
        "\n",
        "Strings, Variables, & Operations\n",
        "\n",
        "In the Jupyter Notebook, create a string 'xyz' and assign it to the variable str1\n",
        "\n",
        "Create a string '2222' and assign it to the variable str2\n",
        "\n",
        "Use the + operator to concatenate the strings str1 and str2, and assign the result to the variable str3\n",
        "\n",
        "Print the value of str3\n",
        "\n",
        "Extract the item at position 0 of the string str3, and assign it to the variable ind0\n",
        "\n",
        "Print the value of ind0\n",
        "\n",
        "Extract the item at position 2 of the string str3, and assign it to the variable ind2\n",
        "\n",
        "Print the value of ind2\n",
        "\n",
        "The concatenated string str3 has '2222' immediately following 'xyz'. Write an expression to create a new string with a space between 'xyz' and '2222', and assign the result to a variable named str4.\n",
        "\n",
        "Run your code in the notebook, using the Run command.\n",
        "\n",
        "In the notebook, run the %whos command to see what variables exist.\n",
        "\n",
        "Try to change the item at position 2 of str3 to instead be 'Z' . Note the error message. Why is this happening?"
      ],
      "metadata": {
        "id": "nSsCNiIFk3qC"
      }
    },
    {
      "cell_type": "markdown",
      "source": [],
      "metadata": {
        "id": "kbrmMKE8A_Q6"
      }
    },
    {
      "cell_type": "code",
      "source": [
        "str1 = \"xyz\"\n",
        "str2 = '2222'\n",
        "str3 = str1 + str2\n",
        "print(str3)"
      ],
      "metadata": {
        "id": "mR5DmpnjXlo4",
        "colab": {
          "base_uri": "https://localhost:8080/"
        },
        "outputId": "d8c16157-8395-4ed1-b36e-bff0d618bfd7"
      },
      "execution_count": null,
      "outputs": [
        {
          "output_type": "stream",
          "name": "stdout",
          "text": [
            "xyz2222\n"
          ]
        }
      ]
    },
    {
      "cell_type": "code",
      "source": [
        "ind0 = str3[0]\n",
        "print(ind0)"
      ],
      "metadata": {
        "id": "1AX6q6z2Xmll",
        "colab": {
          "base_uri": "https://localhost:8080/"
        },
        "outputId": "94f3376a-aecf-4eae-9469-adf1945c4714"
      },
      "execution_count": null,
      "outputs": [
        {
          "output_type": "stream",
          "name": "stdout",
          "text": [
            "x\n"
          ]
        }
      ]
    },
    {
      "cell_type": "code",
      "source": [
        "ind2 = str3[2]\n",
        "print(ind2)"
      ],
      "metadata": {
        "id": "hyyWgFxNXmup",
        "colab": {
          "base_uri": "https://localhost:8080/"
        },
        "outputId": "10ad5281-48b1-456e-fdab-234bc4554901"
      },
      "execution_count": null,
      "outputs": [
        {
          "output_type": "stream",
          "name": "stdout",
          "text": [
            "z\n"
          ]
        }
      ]
    },
    {
      "cell_type": "code",
      "source": [
        "str4 = str3[0:3] + \" \" + str3[3:]\n",
        "print(str4)"
      ],
      "metadata": {
        "id": "okIS4bTXHZbj",
        "colab": {
          "base_uri": "https://localhost:8080/"
        },
        "outputId": "7ddef710-a6ef-4c47-a128-f6aacab13489"
      },
      "execution_count": null,
      "outputs": [
        {
          "output_type": "stream",
          "name": "stdout",
          "text": [
            "xyz 2222\n"
          ]
        }
      ]
    },
    {
      "cell_type": "code",
      "source": [
        "%whos"
      ],
      "metadata": {
        "id": "DZoJjkH5HZjt",
        "colab": {
          "base_uri": "https://localhost:8080/"
        },
        "outputId": "e8e80c71-260b-434b-98ef-91e9652000be"
      },
      "execution_count": null,
      "outputs": [
        {
          "output_type": "stream",
          "name": "stdout",
          "text": [
            "Variable   Type    Data/Info\n",
            "----------------------------\n",
            "ind0       str     x\n",
            "ind2       str     z\n",
            "str1       str     xyz\n",
            "str2       str     2222\n",
            "str3       str     xyz2222\n",
            "str4       str     xyz 2222\n"
          ]
        }
      ]
    },
    {
      "cell_type": "markdown",
      "source": [
        "Questions\n",
        "\n",
        "When you tried to change the item at position 2 of str3, you got an error message that read: TypeError: 'str' object does not support item assignment. Why did you receive that error?\n",
        "\n",
        "The string str3 does not have anything at position 2.\n",
        "Parts of strings cannot be reassigned after they have been created.\n",
        "The element at position 2 of the string str3 is not the letter 'Z'.\n",
        " \n"
      ],
      "metadata": {
        "id": "7S_FxVfgk8nz"
      }
    },
    {
      "cell_type": "code",
      "source": [
        "#Q1: When you tried to change the item at position 2 of str3, you got an error message that read: TypeError: 'str' object does not support item assignment.\n",
        "#Q1: Why did you receive that error?\n",
        "\n",
        "#A: The error is received because parts of strings cannot be reassigned after they have been created. "
      ],
      "metadata": {
        "id": "m9rs44ICHZnG"
      },
      "execution_count": null,
      "outputs": []
    },
    {
      "cell_type": "markdown",
      "source": [
        "**Exercise 2**\n",
        "\n",
        "Dictionaries & Variables\n",
        "In the Jupyter Notebook, write several lines of code to do the following in succession, and once you are finished, run your code in the notebook, using the Run command:\n",
        "Write an expression to create a dictionary that has the following letters as keys and numbers as values: map the letter 'a' to the number 1, the letter 'b' to the number 2, and the letter 'c' to the number 3. Assign the expression to the variable my_dict\n",
        "After creating my_dict, write an expression to print its value.\n",
        "Access the value associated with the key \"b\", and assign it to the variable val_b.\n",
        "Write a new statement that adds a new entry to the dictionary, by assigning the value 4 to the key \"d\".\n",
        "Write another expression to print the value of my_dict.\n",
        " \n",
        " "
      ],
      "metadata": {
        "id": "YFRHmKI1lBDz"
      }
    },
    {
      "cell_type": "code",
      "source": [
        "my_dict = {\"a\": 1, \"b\": 2, \"c\" : 3}\n",
        "\n",
        "print(my_dict.values())\n",
        "\n",
        "val_b = my_dict[\"b\"]\n",
        "\n",
        "my_dict[\"d\"] = 4\n",
        "\n",
        "print(my_dict.values())"
      ],
      "metadata": {
        "id": "3vDAQh6LXm5Z",
        "colab": {
          "base_uri": "https://localhost:8080/"
        },
        "outputId": "44a2ee8d-a3d9-46d5-d367-e6da8f426b05"
      },
      "execution_count": null,
      "outputs": [
        {
          "output_type": "stream",
          "name": "stdout",
          "text": [
            "dict_values([1, 2, 3])\n",
            "dict_values([1, 2, 3, 4])\n"
          ]
        }
      ]
    },
    {
      "cell_type": "markdown",
      "source": [
        "In the notebook cell, write an expression resetting the value associated with 'c' to 30. Print the value of my_dict one more time.\n",
        " \n"
      ],
      "metadata": {
        "id": "SuiUHf6sXnRf"
      }
    },
    {
      "cell_type": "code",
      "source": [
        "my_dict[\"c\"] = 30\n",
        "print(my_dict.values())"
      ],
      "metadata": {
        "id": "FrWCBX2sXp0I",
        "colab": {
          "base_uri": "https://localhost:8080/"
        },
        "outputId": "7f0e67df-66b9-41b9-9f18-d5968ed8dc68"
      },
      "execution_count": null,
      "outputs": [
        {
          "output_type": "stream",
          "name": "stdout",
          "text": [
            "dict_values([1, 2, 30, 4])\n"
          ]
        }
      ]
    },
    {
      "cell_type": "markdown",
      "source": [
        "Try to access the value associated with the key 'e', and assign it to the variable val_e. You should note that this generates an error, which you will be quizzed about.\n",
        " "
      ],
      "metadata": {
        "id": "-8SeXsWJXqsb"
      }
    },
    {
      "cell_type": "code",
      "source": [
        "val_e = my_dict[\"e\"]"
      ],
      "metadata": {
        "id": "QFWWgfYSXrfb",
        "colab": {
          "base_uri": "https://localhost:8080/",
          "height": 169
        },
        "outputId": "0e2195b5-25cd-4db1-a168-b22e108164b3"
      },
      "execution_count": null,
      "outputs": [
        {
          "output_type": "error",
          "ename": "KeyError",
          "evalue": "ignored",
          "traceback": [
            "\u001b[0;31m---------------------------------------------------------------------------\u001b[0m",
            "\u001b[0;31mKeyError\u001b[0m                                  Traceback (most recent call last)",
            "\u001b[0;32m<ipython-input-12-ad7ebda9f525>\u001b[0m in \u001b[0;36m<module>\u001b[0;34m\u001b[0m\n\u001b[0;32m----> 1\u001b[0;31m \u001b[0mval_e\u001b[0m \u001b[0;34m=\u001b[0m \u001b[0mmy_dict\u001b[0m\u001b[0;34m[\u001b[0m\u001b[0;34m\"e\"\u001b[0m\u001b[0;34m]\u001b[0m\u001b[0;34m\u001b[0m\u001b[0;34m\u001b[0m\u001b[0m\n\u001b[0m",
            "\u001b[0;31mKeyError\u001b[0m: 'e'"
          ]
        }
      ]
    },
    {
      "cell_type": "markdown",
      "source": [
        "Questions\n",
        "\n",
        "Did you see a message stating KeyError: 'e'. Check all statements below that are true:\n",
        "- The error is due to the fact that I didn’t write code to print out the value of val_e. \n",
        "- The error is due to the fact that there is no key named 'e' in my_dict. \n",
        "- If I were to assign a value to the key 'e' in my_dict, then I would not see this error when I tried val_e = my_dict['e'] "
      ],
      "metadata": {
        "id": "24jqfLSdk1b4"
      }
    },
    {
      "cell_type": "code",
      "source": [
        "#Questions\n",
        "\n",
        "#Did you see a message stating KeyError: 'e'. Check all statements below that are true:\n",
        "#The error is due to the fact that I didn’t write code to print out the value of val_e.\n",
        "#The error is due to the fact that there is no key named 'e' in my_dict.\n",
        "#If I were to assign a value to the key 'e' in my_dict, then I would not see this error when I tried val_e = my_dict['e']#\n",
        "\n",
        "#Answer:\n",
        "#The error is due to the fact that there is no key named 'e' in my_dict.\n",
        "#If I were to assign a value to the key 'e' in my_dict, then I would not see this error when I tried val_e = my_dict['e']#"
      ],
      "metadata": {
        "id": "VwTeWsqlNwP3"
      },
      "execution_count": null,
      "outputs": []
    },
    {
      "cell_type": "markdown",
      "source": [
        "\n",
        "**Exercise 3    [5 Points]**\n",
        "\n",
        "Python Basics\n",
        "1) Write a python program which generate a list of 20 random integers in range 0 to 100 and then find the largest integer in this list. (Use if - else condition, function, don’t use loops)\n",
        "\n",
        "\n",
        " "
      ],
      "metadata": {
        "id": "loIc8nVclIx4"
      }
    },
    {
      "cell_type": "code",
      "source": [
        "import random\n",
        "def rando(i):\n",
        "    return(random.sample(range(0,100),20))"
      ],
      "metadata": {
        "id": "qCBowLooX79E"
      },
      "execution_count": null,
      "outputs": []
    },
    {
      "cell_type": "code",
      "source": [
        "list1=rando(list)\n",
        "print(list1)"
      ],
      "metadata": {
        "colab": {
          "base_uri": "https://localhost:8080/"
        },
        "id": "dNov92Pc8klv",
        "outputId": "88651bf8-d65a-4579-acde-de3cee980a89"
      },
      "execution_count": null,
      "outputs": [
        {
          "output_type": "stream",
          "name": "stdout",
          "text": [
            "[76, 35, 38, 86, 32, 45, 61, 46, 79, 73, 77, 85, 47, 89, 26, 71, 62, 13, 87, 11]\n"
          ]
        }
      ]
    },
    {
      "cell_type": "code",
      "source": [
        "i = max(list1)\n",
        "if i is max(list1):\n",
        "    print(i)"
      ],
      "metadata": {
        "colab": {
          "base_uri": "https://localhost:8080/"
        },
        "id": "Fy7MmFI68nC8",
        "outputId": "0f73adb8-c8c3-4047-b9f5-a791b1721088"
      },
      "execution_count": null,
      "outputs": [
        {
          "output_type": "stream",
          "name": "stdout",
          "text": [
            "89\n"
          ]
        }
      ]
    },
    {
      "cell_type": "markdown",
      "source": [
        "2) Write a function which accepts a dictionary as its parameter and returns two lists, out of which one is a list of only its keys and the other is a list of only its values. (Make a lists of your choice)\n"
      ],
      "metadata": {
        "id": "JxbQP01SX8rs"
      }
    },
    {
      "cell_type": "code",
      "source": [
        "def fun1(d):\n",
        "    return list(d.keys()), list(d.values())"
      ],
      "metadata": {
        "id": "QUYB9PXblT4M"
      },
      "execution_count": null,
      "outputs": []
    },
    {
      "cell_type": "code",
      "source": [
        "Dict1={'State A':'Maryland', 'State B':'DC', 'State C': 'Virginia'}"
      ],
      "metadata": {
        "id": "0vpNbSsM8yPO"
      },
      "execution_count": null,
      "outputs": []
    },
    {
      "cell_type": "code",
      "source": [
        "fun1(Dict1)"
      ],
      "metadata": {
        "colab": {
          "base_uri": "https://localhost:8080/"
        },
        "id": "BHEwoftg80Dr",
        "outputId": "4746c9b9-e462-4757-9f20-0e08df123327"
      },
      "execution_count": null,
      "outputs": [
        {
          "output_type": "execute_result",
          "data": {
            "text/plain": [
              "(['State A', 'State B', 'State C'], ['Maryland', 'DC', 'Virginia'])"
            ]
          },
          "metadata": {},
          "execution_count": 14
        }
      ]
    },
    {
      "cell_type": "markdown",
      "source": [
        "**Exercise 4    [5 Points]**\n",
        "\n",
        "Data Wrangling\n",
        "Read the “demographics_dataset.xlsx” dataset for this exercise. The data that shows an individual's income (Income <=50K vs >50K), age, sex (Female, Male), and marital status!\n",
        "\n",
        "\n"
      ],
      "metadata": {
        "id": "sV1xnSHilI6r"
      }
    },
    {
      "cell_type": "code",
      "source": [
        "import numpy as np \n",
        "from pandas import Series, DataFrame\n",
        "import pandas as pd"
      ],
      "metadata": {
        "id": "H3KdHSNAnJkL"
      },
      "execution_count": null,
      "outputs": []
    },
    {
      "cell_type": "code",
      "source": [
        "df=pd.read_csv('/content/demographics_dataset.csv')"
      ],
      "metadata": {
        "id": "ml2FzMxelaYa"
      },
      "execution_count": 104,
      "outputs": []
    },
    {
      "cell_type": "code",
      "source": [
        "from google.colab import drive\n",
        "drive.mount('/content/drive')"
      ],
      "metadata": {
        "colab": {
          "base_uri": "https://localhost:8080/"
        },
        "id": "-hwQQzjF32yr",
        "outputId": "5b1f8a3b-2b5c-4b7f-d1aa-e3848d33cdc7"
      },
      "execution_count": null,
      "outputs": [
        {
          "output_type": "stream",
          "name": "stdout",
          "text": [
            "Drive already mounted at /content/drive; to attempt to forcibly remount, call drive.mount(\"/content/drive\", force_remount=True).\n"
          ]
        }
      ]
    },
    {
      "cell_type": "markdown",
      "source": [
        "1) Count the number of males and females in the data.\n",
        "\n",
        "\n"
      ],
      "metadata": {
        "id": "66PMIWOblYQI"
      }
    },
    {
      "cell_type": "code",
      "source": [
        "df.columns"
      ],
      "metadata": {
        "colab": {
          "base_uri": "https://localhost:8080/"
        },
        "id": "vDGoPYLDq2Dj",
        "outputId": "16f4c8c2-2184-4cd3-d790-9ae8aadef4e2"
      },
      "execution_count": null,
      "outputs": [
        {
          "output_type": "execute_result",
          "data": {
            "text/plain": [
              "Index(['age', ' workclass', ' fnlwgt', ' education', ' education-num',\n",
              "       ' marital-status', ' occupation', ' relationship', ' race', ' sex',\n",
              "       ' capital-gain', ' capital-loss', ' hours-per-week', ' native-country',\n",
              "       ' salary'],\n",
              "      dtype='object')"
            ]
          },
          "metadata": {},
          "execution_count": 14
        }
      ]
    },
    {
      "cell_type": "code",
      "source": [
        "df[' sex'].value_counts()"
      ],
      "metadata": {
        "colab": {
          "base_uri": "https://localhost:8080/"
        },
        "id": "dMxT7-o9vrVr",
        "outputId": "22764376-8d3a-4285-b6f3-0b500ab35fb2"
      },
      "execution_count": null,
      "outputs": [
        {
          "output_type": "execute_result",
          "data": {
            "text/plain": [
              " Male      21790\n",
              " Female    10771\n",
              "Name:  sex, dtype: int64"
            ]
          },
          "metadata": {},
          "execution_count": 15
        }
      ]
    },
    {
      "cell_type": "markdown",
      "source": [
        "2) What percentages of males and females are married?\n",
        "\n"
      ],
      "metadata": {
        "id": "Nya-UKRLYEJm"
      }
    },
    {
      "cell_type": "code",
      "source": [
        "df_females=df[(df[' sex'])==' Female']\n",
        "df_males=df[(df[' sex'])==' Male']"
      ],
      "metadata": {
        "id": "PFxcvM6u-xGi"
      },
      "execution_count": null,
      "outputs": []
    },
    {
      "cell_type": "code",
      "source": [
        "df1=df.groupby(' sex')\n",
        "df1[' marital-status'].value_counts()"
      ],
      "metadata": {
        "id": "tMY9eYiuYDdw",
        "colab": {
          "base_uri": "https://localhost:8080/"
        },
        "outputId": "644e7c84-df9a-4002-a6ef-6bfb9179cd88"
      },
      "execution_count": null,
      "outputs": [
        {
          "output_type": "execute_result",
          "data": {
            "text/plain": [
              " sex      marital-status       \n",
              " Female   Never-married             4767\n",
              "          Divorced                  2672\n",
              "          Married-civ-spouse        1657\n",
              "          Widowed                    825\n",
              "          Separated                  631\n",
              "          Married-spouse-absent      205\n",
              "          Married-AF-spouse           14\n",
              " Male     Married-civ-spouse       13319\n",
              "          Never-married             5916\n",
              "          Divorced                  1771\n",
              "          Separated                  394\n",
              "          Married-spouse-absent      213\n",
              "          Widowed                    168\n",
              "          Married-AF-spouse            9\n",
              "Name:  marital-status, dtype: int64"
            ]
          },
          "metadata": {},
          "execution_count": 43
        }
      ]
    },
    {
      "cell_type": "code",
      "source": [
        "df_females_married = df_females[' marital-status'].str.contains(\"Married\")\n",
        "df_females_married.sum()"
      ],
      "metadata": {
        "colab": {
          "base_uri": "https://localhost:8080/"
        },
        "id": "0a_N45X7NzGs",
        "outputId": "24360d6f-6c0b-4752-9164-d26762d5c4ce"
      },
      "execution_count": 141,
      "outputs": [
        {
          "output_type": "execute_result",
          "data": {
            "text/plain": [
              "1876"
            ]
          },
          "metadata": {},
          "execution_count": 141
        }
      ]
    },
    {
      "cell_type": "code",
      "source": [
        "Percentage_female_married = df_females_married.sum()/df_females.value_counts().sum()\n",
        "Percentage_female_married"
      ],
      "metadata": {
        "id": "069Q5M6uIjXD",
        "colab": {
          "base_uri": "https://localhost:8080/"
        },
        "outputId": "adde5e3e-c898-4fa8-aa9b-9606615e070f"
      },
      "execution_count": 115,
      "outputs": [
        {
          "output_type": "execute_result",
          "data": {
            "text/plain": [
              "0.1741713861294216"
            ]
          },
          "metadata": {},
          "execution_count": 115
        }
      ]
    },
    {
      "cell_type": "code",
      "source": [
        "df_males_married = df_males[' marital-status'].str.contains(\"Married\")\n",
        "df_males_married.sum()"
      ],
      "metadata": {
        "colab": {
          "base_uri": "https://localhost:8080/"
        },
        "id": "nU2S3nY1dLlj",
        "outputId": "42c13a3b-79dc-4c5d-a9a0-453b48eeb06b"
      },
      "execution_count": 140,
      "outputs": [
        {
          "output_type": "execute_result",
          "data": {
            "text/plain": [
              "13541"
            ]
          },
          "metadata": {},
          "execution_count": 140
        }
      ]
    },
    {
      "cell_type": "code",
      "source": [
        "Percentage_male_married = df_males_married.sum()/df_males.value_counts().sum()\n",
        "Percentage_male_married"
      ],
      "metadata": {
        "colab": {
          "base_uri": "https://localhost:8080/"
        },
        "id": "gk1CKasg3Tor",
        "outputId": "8f963e1a-e6a2-427c-f12f-ae62177a4e51"
      },
      "execution_count": 156,
      "outputs": [
        {
          "output_type": "execute_result",
          "data": {
            "text/plain": [
              "0.621431849472235"
            ]
          },
          "metadata": {},
          "execution_count": 156
        }
      ]
    },
    {
      "cell_type": "markdown",
      "source": [
        "3) What are the highest and the lowest incomes of males and females?\n"
      ],
      "metadata": {
        "id": "yaND50lqYIvC"
      }
    },
    {
      "cell_type": "code",
      "source": [
        "df.groupby(' sex')[' salary'].max()"
      ],
      "metadata": {
        "colab": {
          "base_uri": "https://localhost:8080/"
        },
        "id": "IG37qcHdw5T5",
        "outputId": "696c8a4e-0f27-49a3-e196-66aec52cb6bb"
      },
      "execution_count": 100,
      "outputs": [
        {
          "output_type": "execute_result",
          "data": {
            "text/plain": [
              " sex\n",
              " Female     >50K\n",
              " Male       >50K\n",
              "Name:  salary, dtype: object"
            ]
          },
          "metadata": {},
          "execution_count": 100
        }
      ]
    },
    {
      "cell_type": "code",
      "source": [
        "df.groupby(' sex')[' salary'].min()"
      ],
      "metadata": {
        "colab": {
          "base_uri": "https://localhost:8080/"
        },
        "id": "kRjhRiwl5m1w",
        "outputId": "70bcca55-3202-4dec-c9bb-c56c1d6b6723"
      },
      "execution_count": 101,
      "outputs": [
        {
          "output_type": "execute_result",
          "data": {
            "text/plain": [
              " sex\n",
              " Female     <=50K\n",
              " Male       <=50K\n",
              "Name:  salary, dtype: object"
            ]
          },
          "metadata": {},
          "execution_count": 101
        }
      ]
    },
    {
      "cell_type": "markdown",
      "source": [
        "**Since there are no exact numbers of salary, we decided to upload the right code, which can calculate the maxmium and minimum of the salary once the salary has the exact number.**\n",
        "\n"
      ],
      "metadata": {
        "id": "rWFUL-QI14IY"
      }
    },
    {
      "cell_type": "markdown",
      "source": [
        "4) What are the highest and lowest incomes of married and unmarried males?\n",
        "\n",
        "\n",
        "\n",
        "\n"
      ],
      "metadata": {
        "id": "TmbHi_1TYKJz"
      }
    },
    {
      "cell_type": "code",
      "source": [
        "df['isMarried']= df_females[' marital-status'].str.contains(\"Married\").to_frame()\n",
        "df_married_female=df[df['isMarried']== True]\n",
        "df_unmarried_female=df[df['isMarried']!= True]"
      ],
      "metadata": {
        "id": "RTvFC-sY7W4f"
      },
      "execution_count": 148,
      "outputs": []
    },
    {
      "cell_type": "code",
      "source": [
        "df_married_female[' salary'].min()"
      ],
      "metadata": {
        "colab": {
          "base_uri": "https://localhost:8080/",
          "height": 35
        },
        "id": "UJDwvFBe59y3",
        "outputId": "4993da36-9ead-440f-a7e3-07f4a3bffd7c"
      },
      "execution_count": 149,
      "outputs": [
        {
          "output_type": "execute_result",
          "data": {
            "text/plain": [
              "' <=50K'"
            ],
            "application/vnd.google.colaboratory.intrinsic+json": {
              "type": "string"
            }
          },
          "metadata": {},
          "execution_count": 149
        }
      ]
    },
    {
      "cell_type": "code",
      "source": [
        "df_married_female[' salary'].max()"
      ],
      "metadata": {
        "colab": {
          "base_uri": "https://localhost:8080/",
          "height": 35
        },
        "id": "A0hkatQ86E0X",
        "outputId": "3a4db9da-90ce-4e49-f3ea-514fb78507b3"
      },
      "execution_count": 151,
      "outputs": [
        {
          "output_type": "execute_result",
          "data": {
            "text/plain": [
              "' >50K'"
            ],
            "application/vnd.google.colaboratory.intrinsic+json": {
              "type": "string"
            }
          },
          "metadata": {},
          "execution_count": 151
        }
      ]
    },
    {
      "cell_type": "code",
      "source": [
        "df_unmarried_female[' salary'].min()"
      ],
      "metadata": {
        "colab": {
          "base_uri": "https://localhost:8080/",
          "height": 35
        },
        "id": "BXSS52uf6Pod",
        "outputId": "bbacb3e8-a76e-41d1-8037-5fd9daa0b9ed"
      },
      "execution_count": 157,
      "outputs": [
        {
          "output_type": "execute_result",
          "data": {
            "text/plain": [
              "' <=50K'"
            ],
            "application/vnd.google.colaboratory.intrinsic+json": {
              "type": "string"
            }
          },
          "metadata": {},
          "execution_count": 157
        }
      ]
    },
    {
      "cell_type": "code",
      "source": [
        "df_unmarried_female[' salary'].max()"
      ],
      "metadata": {
        "colab": {
          "base_uri": "https://localhost:8080/",
          "height": 35
        },
        "id": "Eyff_6qP6P1j",
        "outputId": "d138e461-7473-4924-8652-0336649fe9a9"
      },
      "execution_count": 153,
      "outputs": [
        {
          "output_type": "execute_result",
          "data": {
            "text/plain": [
              "' >50K'"
            ],
            "application/vnd.google.colaboratory.intrinsic+json": {
              "type": "string"
            }
          },
          "metadata": {},
          "execution_count": 153
        }
      ]
    },
    {
      "cell_type": "code",
      "source": [],
      "metadata": {
        "id": "UheXQt2p98HA"
      },
      "execution_count": null,
      "outputs": []
    },
    {
      "cell_type": "code",
      "source": [
        "df['isMarried']= df_males[' marital-status'].str.contains(\"Married\").to_frame()\n",
        "df_married_male=df[df['isMarried']== True]\n",
        "df_unmarried_male=df[df['isMarried']!= True]"
      ],
      "metadata": {
        "id": "EmYn8C-zzG-q"
      },
      "execution_count": 143,
      "outputs": []
    },
    {
      "cell_type": "code",
      "source": [
        "df_married_male[' salary'].min()"
      ],
      "metadata": {
        "id": "qodUyc1BYMJM",
        "colab": {
          "base_uri": "https://localhost:8080/",
          "height": 35
        },
        "outputId": "388a2b85-1f8a-4a69-b3a9-d32e6e3b13a9"
      },
      "execution_count": 144,
      "outputs": [
        {
          "output_type": "execute_result",
          "data": {
            "text/plain": [
              "' <=50K'"
            ],
            "application/vnd.google.colaboratory.intrinsic+json": {
              "type": "string"
            }
          },
          "metadata": {},
          "execution_count": 144
        }
      ]
    },
    {
      "cell_type": "code",
      "source": [
        "df_married_male[' salary'].max()"
      ],
      "metadata": {
        "colab": {
          "base_uri": "https://localhost:8080/",
          "height": 35
        },
        "id": "eori_Gck5Mk5",
        "outputId": "f766a5f6-439c-4b01-9d7c-e5f8bbfcebae"
      },
      "execution_count": 145,
      "outputs": [
        {
          "output_type": "execute_result",
          "data": {
            "text/plain": [
              "' >50K'"
            ],
            "application/vnd.google.colaboratory.intrinsic+json": {
              "type": "string"
            }
          },
          "metadata": {},
          "execution_count": 145
        }
      ]
    },
    {
      "cell_type": "code",
      "source": [
        "df_unmarried_male[' salary'].min()"
      ],
      "metadata": {
        "colab": {
          "base_uri": "https://localhost:8080/",
          "height": 35
        },
        "id": "YLdCxREn5nFt",
        "outputId": "f8b655fe-e0b5-42fb-90b5-a8b0419e5f7b"
      },
      "execution_count": 146,
      "outputs": [
        {
          "output_type": "execute_result",
          "data": {
            "text/plain": [
              "' <=50K'"
            ],
            "application/vnd.google.colaboratory.intrinsic+json": {
              "type": "string"
            }
          },
          "metadata": {},
          "execution_count": 146
        }
      ]
    },
    {
      "cell_type": "code",
      "source": [
        "df_unmarried_male[' salary'].max()"
      ],
      "metadata": {
        "colab": {
          "base_uri": "https://localhost:8080/",
          "height": 35
        },
        "id": "q16pOyin5nWo",
        "outputId": "28a36078-8b25-41c0-8716-b376f7315cd7"
      },
      "execution_count": 147,
      "outputs": [
        {
          "output_type": "execute_result",
          "data": {
            "text/plain": [
              "' >50K'"
            ],
            "application/vnd.google.colaboratory.intrinsic+json": {
              "type": "string"
            }
          },
          "metadata": {},
          "execution_count": 147
        }
      ]
    }
  ]
}